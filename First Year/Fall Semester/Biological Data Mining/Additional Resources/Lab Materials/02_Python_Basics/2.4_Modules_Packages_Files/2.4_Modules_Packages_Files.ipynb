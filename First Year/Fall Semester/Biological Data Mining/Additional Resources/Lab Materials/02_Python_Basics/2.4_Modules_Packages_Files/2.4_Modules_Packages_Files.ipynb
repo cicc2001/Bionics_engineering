{
 "cells": [
  {
   "cell_type": "markdown",
   "metadata": {},
   "source": [
    "# Table of Contents:\n",
    "- [Modules](#What-is-a-module?)\n",
    "- [Packages](#Packages)\n",
    "- [Files and Utilities](#Files-and-Utilities)"
   ]
  },
  {
   "cell_type": "markdown",
   "metadata": {
    "slideshow": {
     "slide_type": "-"
    }
   },
   "source": [
    "Based on the notebooks by Eric Franzosa, Ph.D. (franzosa@hsph.harvard.edu), edited by prof. Nicola Tonellotto."
   ]
  },
  {
   "cell_type": "markdown",
   "metadata": {
    "slideshow": {
     "slide_type": "-"
    }
   },
   "source": [
    "## What is a module?\n",
    "\n",
    "* A **module** is Python code designed to be re-used in other code\n",
    "    - Sometimes referred to as “Libraries” in other languages\n",
    "* Don’t reinvent the wheel\n",
    "* Also helps with organizing code related to a particular domain"
   ]
  },
  {
   "cell_type": "markdown",
   "metadata": {
    "slideshow": {
     "slide_type": "slide"
    }
   },
   "source": [
    "\n",
    "* A module can be as small as a single Python script\n",
    "    - In fact, every Python script can be used as a module (more on that shortly...)\n",
    "* Some modules come bundled with Python\n",
    "    - The Python “Standard Library”\n",
    "* Other (more specialized) modules can be installed separately\n",
    "    - For example, the Python \"scientific stack\": `scipy`, `numpy`, `pandas`, and `matplotlib`\n",
    "    - Anaconda installed a bunch of these for us automatically\n",
    "* You can write your own modules"
   ]
  },
  {
   "cell_type": "markdown",
   "metadata": {
    "slideshow": {
     "slide_type": "slide"
    }
   },
   "source": [
    "## Using modules\n",
    "\n",
    "* We use modules by importing them into our code"
   ]
  },
  {
   "cell_type": "code",
   "execution_count": 2,
   "metadata": {},
   "outputs": [
    {
     "name": "stdout",
     "output_type": "stream",
     "text": [
      "sleep one second\n",
      "sleep one second\n",
      "sleep one second\n"
     ]
    }
   ],
   "source": [
    "import time\n",
    "\n",
    "for i in range(3):\n",
    "    print(\"sleep one second\")\n",
    "    time.sleep(1)"
   ]
  },
  {
   "cell_type": "code",
   "execution_count": 3,
   "metadata": {
    "slideshow": {
     "slide_type": "fragment"
    }
   },
   "outputs": [
    {
     "name": "stdout",
     "output_type": "stream",
     "text": [
      "sleep one second\n",
      "sleep one second\n",
      "sleep one second\n"
     ]
    }
   ],
   "source": [
    "from time import sleep \n",
    "\n",
    "for i in range(3):\n",
    "    print(\"sleep one second\")\n",
    "    sleep(1)"
   ]
  },
  {
   "cell_type": "markdown",
   "metadata": {
    "slideshow": {
     "slide_type": "slide"
    }
   },
   "source": [
    "Note:\n",
    "* Modules contain the same sort of elements as other Python code\n",
    "* Modules can contain variables\n",
    "    - `math.pi` contains the value of pi (to many decimal places)\n",
    "    - `string.uppercase` contains the uppercase English alphabet\n",
    "* Modules can contain functions\n",
    "    - `time.sleep` pauses computation for N seconds\n",
    "    - `math.sqrt` returns the square root of a number\n",
    "* Modules can contain classes defining other data types\n",
    "    - `collections.Counter` a special dictionary for counting"
   ]
  },
  {
   "cell_type": "markdown",
   "metadata": {
    "slideshow": {
     "slide_type": "slide"
    }
   },
   "source": [
    "## A demonstrative example\n",
    "\n",
    "* The following example assumes I have two Python files in the same folder\n",
    "    - `script.py` is a new script I am working on (or a jupyter notebook --> `notebook.ipynb`)\n",
    "    - `module.py` is some existing code that I want to re-use\n",
    "    \n",
    "    <img src=\"Figures/module1.png\" alt=\"drawing\" width=\"300\"/>"
   ]
  },
  {
   "cell_type": "markdown",
   "metadata": {},
   "source": [
    "Aside: Atom stands for an IDE (Integrated Development Environment), that is a software application that provides facilities for software development."
   ]
  },
  {
   "cell_type": "markdown",
   "metadata": {
    "slideshow": {
     "slide_type": "slide"
    }
   },
   "source": [
    "\n",
    "![drawing](Figures/module2.png)"
   ]
  },
  {
   "cell_type": "markdown",
   "metadata": {
    "slideshow": {
     "slide_type": "slide"
    }
   },
   "source": [
    "![drawing](Figures/module3.png)"
   ]
  },
  {
   "cell_type": "markdown",
   "metadata": {
    "slideshow": {
     "slide_type": "slide"
    }
   },
   "source": [
    "![drawing](Figures/module5.png)"
   ]
  },
  {
   "cell_type": "markdown",
   "metadata": {
    "slideshow": {
     "slide_type": "slide"
    }
   },
   "source": [
    "![drawing](Figures/module6.png)"
   ]
  },
  {
   "cell_type": "markdown",
   "metadata": {
    "slideshow": {
     "slide_type": "slide"
    }
   },
   "source": [
    "![drawing](Figures/module7.png)"
   ]
  },
  {
   "cell_type": "markdown",
   "metadata": {
    "slideshow": {
     "slide_type": "slide"
    }
   },
   "source": [
    "![drawing](Figures/module8.png)"
   ]
  },
  {
   "cell_type": "markdown",
   "metadata": {
    "slideshow": {
     "slide_type": "slide"
    }
   },
   "source": [
    "![drawing](Figures/module10.png)"
   ]
  },
  {
   "cell_type": "markdown",
   "metadata": {
    "slideshow": {
     "slide_type": "slide"
    }
   },
   "source": [
    "![drawing](Figures/module11.png)"
   ]
  },
  {
   "cell_type": "markdown",
   "metadata": {
    "slideshow": {
     "slide_type": "slide"
    }
   },
   "source": [
    "![drawing](Figures/module12.png)"
   ]
  },
  {
   "cell_type": "markdown",
   "metadata": {
    "slideshow": {
     "slide_type": "slide"
    }
   },
   "source": [
    "![drawing](Figures/module13.png)"
   ]
  },
  {
   "cell_type": "markdown",
   "metadata": {
    "slideshow": {
     "slide_type": "slide"
    }
   },
   "source": [
    "![drawing](Figures/module14.png)"
   ]
  },
  {
   "cell_type": "markdown",
   "metadata": {
    "slideshow": {
     "slide_type": "slide"
    }
   },
   "source": [
    "## Module concepts\n",
    "- You’ll find a new file in the working directory (or in the \"__pycache__\" directory) called `module.pyc`\n",
    "- This is an intermediate “compiled” representation of the Python code (oversimplifying)\n",
    "- Compiled code can be acted on more directly by the computer\n",
    "- Rather than compiling “on the fly” (as with script-code), module code might not change as often, so we save time by keeping a compiled version\n",
    "\n",
    "<img src=\"Figures/module15.png\" alt=\"drawing\" width=\"400\"/>"
   ]
  },
  {
   "cell_type": "markdown",
   "metadata": {
    "slideshow": {
     "slide_type": "slide"
    }
   },
   "source": [
    "## Module concepts\n",
    "\n",
    "* Not all modules live in your working directory\n",
    "* Most of them live in the folder for your Python installation (and specifically in the folder of the dedicated environment)\n",
    "* New packages will be installed there too\n",
    "    - e.g. when i type `conda install scipy`"
   ]
  },
  {
   "cell_type": "code",
   "execution_count": 4,
   "metadata": {},
   "outputs": [
    {
     "data": {
      "text/plain": [
       "['/Users/alessandrorenda/opt/anaconda3/envs/DMML24/lib/python311.zip',\n",
       " '/Users/alessandrorenda/opt/anaconda3/envs/DMML24/lib/python3.11',\n",
       " '/Users/alessandrorenda/opt/anaconda3/envs/DMML24/lib/python3.11/lib-dynload',\n",
       " '',\n",
       " '/Users/alessandrorenda/opt/anaconda3/envs/DMML24/lib/python3.11/site-packages']"
      ]
     },
     "execution_count": 4,
     "metadata": {},
     "output_type": "execute_result"
    }
   ],
   "source": [
    "import sys\n",
    "sys.path # A list of strings that specifies the search path for modules. \n",
    "         # Initialized from the environment variable PYTHONPATH, plus an installation-dependent default."
   ]
  },
  {
   "cell_type": "markdown",
   "metadata": {
    "slideshow": {
     "slide_type": "slide"
    }
   },
   "source": [
    "# Packages\n",
    "\n",
    "- Complex modules are organized in a nested structure\n",
    "- **Packages** are a way of structuring Python's module namespace by\n",
    "using “dotted module names”.\n",
    "    - E.g., the name A.B designates the \"B\" submodule in the \"A“ package.\n",
    "    - `scipy.stats.wilcoxon` is a function in the module `stats` in the package `scipy`\n",
    "    - In reality, `scipy` would be a folder, `stats` would be a file within that folder, and `wilcoxon` would be a function in that file"
   ]
  },
  {
   "cell_type": "code",
   "execution_count": 5,
   "metadata": {},
   "outputs": [],
   "source": [
    "import matplotlib.pyplot # package for MATLAB-like plotting framework."
   ]
  },
  {
   "cell_type": "code",
   "execution_count": 6,
   "metadata": {},
   "outputs": [],
   "source": [
    "import matplotlib.pyplot as plt # \"as\" keyword defines an alias"
   ]
  },
  {
   "cell_type": "code",
   "execution_count": 7,
   "metadata": {},
   "outputs": [],
   "source": [
    "from matplotlib.pyplot import plot"
   ]
  },
  {
   "cell_type": "code",
   "execution_count": 8,
   "metadata": {},
   "outputs": [
    {
     "data": {
      "text/plain": [
       "[<matplotlib.lines.Line2D at 0x107cbd110>]"
      ]
     },
     "execution_count": 8,
     "metadata": {},
     "output_type": "execute_result"
    },
    {
     "data": {
      "image/png": "[encoded data removed]",
      "text/plain": [
       "<Figure size 640x480 with 1 Axes>"
      ]
     },
     "metadata": {},
     "output_type": "display_data"
    }
   ],
   "source": [
    "plot([1, 2, 3], [1, 2, 1], 'o--')"
   ]
  },
  {
   "cell_type": "markdown",
   "metadata": {
    "id": "7j6onPMthjdL"
   },
   "source": [
    "# Files and Utilities"
   ]
  },
  {
   "cell_type": "markdown",
   "metadata": {
    "id": "A26io1Rsh1hz"
   },
   "source": [
    "The *os* module include many functions to interact with the file system.\n"
   ]
  },
  {
   "cell_type": "code",
   "execution_count": 9,
   "metadata": {
    "id": "FS-1YaNWhsbD"
   },
   "outputs": [
    {
     "data": {
      "text/plain": [
       "['2.4_Modules_Packages_Files.ipynb',\n",
       " '.DS_Store',\n",
       " '2.4_Modules_Packages_Files.html',\n",
       " 'out',\n",
       " '__pycache__',\n",
       " 'Figures',\n",
       " '.ipynb_checkpoints',\n",
       " 'module.py',\n",
       " 'script.py']"
      ]
     },
     "execution_count": 9,
     "metadata": {},
     "output_type": "execute_result"
    }
   ],
   "source": [
    "import os\n",
    "os.listdir() # returns a list of the content of the current directory"
   ]
  },
  {
   "cell_type": "markdown",
   "metadata": {
    "id": "uHe_G9oLjM2i"
   },
   "source": [
    "## Writing and Reading\n",
    "In order to use a file we have to:\n",
    "- open the file\n",
    "- handle it for doing some operation\n",
    "- close the file\n",
    "\n",
    "The open() function opens and returns a file handle that can be used to read or write a file in the usual way. \n",
    "\n",
    "The code `f = open('name', 'r')` opens the file into the variable `f`, ready for reading operations, and use `f.close()` when finished. \n",
    "\n",
    "The built-in `open()` function returns a **file object** and allows to work with files. It takes two parameters as arguments: the first argument is a string specifying the name of the file to open, while the second specifies the opening mode:\n",
    "\n",
    "* `'r’`: opens the file in *read-only mode*\n",
    "* `'w’`: opens the file in *write-only mode*\n",
    "* `'a’`: opens the file in *appending mode*\n",
    "* `'r+’`: opens the file in *reading and writing mode*\n",
    "\n",
    "If you don’t provide a second parameter that defines the file’s opening mode in the `open()` function, the file will be opened by default in read-only mode."
   ]
  },
  {
   "cell_type": "markdown",
   "metadata": {
    "id": "KBNBgcyRivfc"
   },
   "source": [
    "### Writing a File"
   ]
  },
  {
   "cell_type": "code",
   "execution_count": 10,
   "metadata": {
    "id": "ItOkWUqGjKja"
   },
   "outputs": [],
   "source": [
    "out_dir = 'out'\n",
    "if not os.path.exists(out_dir):# check if a directory already exists...\n",
    "    os.makedirs(out_dir)         # ... otherwise create it"
   ]
  },
  {
   "cell_type": "code",
   "execution_count": 11,
   "metadata": {},
   "outputs": [
    {
     "data": {
      "text/plain": [
       "'out/prova.csv'"
      ]
     },
     "execution_count": 11,
     "metadata": {},
     "output_type": "execute_result"
    }
   ],
   "source": [
    "a = range(100)\n",
    "b = [x * x for x in a]\n",
    "file_path = os.path.join(out_dir, 'prova.csv') # Join one or more path components intelligently\n",
    "file_path"
   ]
  },
  {
   "cell_type": "code",
   "execution_count": 12,
   "metadata": {},
   "outputs": [],
   "source": [
    "mf = open(file_path, 'w') # open the file in writing mode\n",
    "for x in zip(a, b):\n",
    "    mf.write(f'{x[0]}, {x[1]}\\n')\n",
    "mf.close()  # close the file!"
   ]
  },
  {
   "cell_type": "markdown",
   "metadata": {
    "id": "cBBI2Zs-iOyn"
   },
   "source": [
    "### Reading a File"
   ]
  },
  {
   "cell_type": "code",
   "execution_count": 13,
   "metadata": {
    "id": "KC6O6CvgmrSN"
   },
   "outputs": [
    {
     "name": "stdout",
     "output_type": "stream",
     "text": [
      "0, 0\n",
      "\n",
      "1, 1\n",
      "\n",
      "2, 4\n",
      "\n",
      "3, 9\n",
      "\n",
      "4, 16\n",
      "\n",
      "5, 25\n",
      "\n",
      "6, 36\n",
      "\n",
      "7, 49\n",
      "\n",
      "8, 64\n",
      "\n",
      "9, 81\n",
      "\n",
      "10, 100\n",
      "\n"
     ]
    }
   ],
   "source": [
    "mf = open(file_path, 'r')\n",
    "for line_number, line in enumerate(mf):  ## iterates over the lines of the file\n",
    "    print(line)    \n",
    "    if line_number == 10:\n",
    "        break\n",
    "mf.close()  # close the file!\n"
   ]
  },
  {
   "cell_type": "markdown",
   "metadata": {},
   "source": [
    "It is considered a good practice to always close files after you are done with them (whether for writing or reading). The `with` statement is used with *context managers* to enforce conditions before and after a block is executed. The `open()` function serves as a context manager to ensure that a file is closed when the block is left. The following code using the `with` statement is equivalent to the previous one:"
   ]
  },
  {
   "cell_type": "code",
   "execution_count": 14,
   "metadata": {
    "colab": {
     "base_uri": "https://localhost:8080/"
    },
    "id": "Wt53fLQgmRg_",
    "outputId": "0f2caf29-b371-47e6-fd68-9030a7c6465a"
   },
   "outputs": [
    {
     "name": "stdout",
     "output_type": "stream",
     "text": [
      "0, 0\n",
      "\n",
      "1, 1\n",
      "\n",
      "2, 4\n",
      "\n",
      "3, 9\n",
      "\n",
      "4, 16\n",
      "\n",
      "5, 25\n",
      "\n",
      "6, 36\n",
      "\n",
      "7, 49\n",
      "\n",
      "8, 64\n",
      "\n",
      "9, 81\n",
      "\n",
      "10, 100\n",
      "\n"
     ]
    }
   ],
   "source": [
    "# a preferable sintax (both for writing and reading): file is closed automatically\n",
    "with open(file_path, 'r') as mf:\n",
    "    for number, x in enumerate(mf):\n",
    "        print(x)\n",
    "        if number == 10:\n",
    "            break"
   ]
  },
  {
   "cell_type": "code",
   "execution_count": 15,
   "metadata": {
    "colab": {
     "base_uri": "https://localhost:8080/"
    },
    "id": "Ei2WIrlAn0yo",
    "outputId": "00200d15-af0e-4d7a-a7d8-2e12a5f4780b"
   },
   "outputs": [
    {
     "name": "stdout",
     "output_type": "stream",
     "text": [
      "['0, 0\\n', '1, 1\\n', '2, 4\\n', '3, 9\\n', '4, 16\\n', '5, 25\\n', '6, 36\\n', '7, 49\\n', '8, 64\\n', '9, 81\\n']\n",
      "['0, 0', '1, 1', '2, 4', '3, 9', '4, 16', '5, 25', '6, 36', '7, 49', '8, 64', '9, 81']\n"
     ]
    },
    {
     "data": {
      "text/plain": [
       "100"
      ]
     },
     "execution_count": 15,
     "metadata": {},
     "output_type": "execute_result"
    }
   ],
   "source": [
    "with open(file_path, 'r') as mf:\n",
    "    x = mf.readlines() #returns a list: each line is a list element.\n",
    "print(x[0:10])\n",
    "x = [element.strip() for element in x]\n",
    "print(x[0:10])\n",
    "len(x)"
   ]
  }
 ],
 "metadata": {
  "kernelspec": {
   "display_name": "Python 3 (ipykernel)",
   "language": "python",
   "name": "python3"
  },
  "language_info": {
   "codemirror_mode": {
    "name": "ipython",
    "version": 3
   },
   "file_extension": ".py",
   "mimetype": "text/x-python",
   "name": "python",
   "nbconvert_exporter": "python",
   "pygments_lexer": "ipython3",
   "version": "3.11.9"
  },
  "livereveal": {
   "transition": "none"
  }
 },
 "nbformat": 4,
 "nbformat_minor": 4
}
