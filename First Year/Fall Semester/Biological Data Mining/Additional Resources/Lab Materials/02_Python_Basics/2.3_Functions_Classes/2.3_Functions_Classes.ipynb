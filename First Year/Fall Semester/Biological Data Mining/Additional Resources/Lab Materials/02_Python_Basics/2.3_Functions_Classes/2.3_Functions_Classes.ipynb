{
 "cells": [
  {
   "cell_type": "markdown",
   "metadata": {},
   "source": [
    "# Table of Contents:\n",
    "- [Functions: reusable portions of programs](#Functions:-reusable-portions-of-programs)\n",
    "    - [Definition](#Definition)\n",
    "    - [Namespaces](#Namespaces)\n",
    "    - [Lambda functions](#Lambda-functions)\n",
    "    - [Generator functions](#Generator-functions)\n",
    "- [A first look at Classes](#A-first-look-at-Classes)\n",
    "    - [Definitions](#Definitions)\n",
    "    - [Inheritance](#Inheritance)\n"
   ]
  },
  {
   "cell_type": "markdown",
   "metadata": {
    "id": "T9Wugj4sPY0-"
   },
   "source": [
    "# Functions: reusable portions of programs\n"
   ]
  },
  {
   "cell_type": "markdown",
   "metadata": {},
   "source": [
    "* Functions are one of the main ways of transforming data (in many programming languages)\n",
    "* We've been using functions (and their cousin, methods) since day 1!"
   ]
  },
  {
   "cell_type": "code",
   "execution_count": 1,
   "metadata": {},
   "outputs": [
    {
     "data": {
      "text/plain": [
       "5"
      ]
     },
     "execution_count": 1,
     "metadata": {},
     "output_type": "execute_result"
    }
   ],
   "source": [
    "abs(-5)"
   ]
  },
  {
   "cell_type": "code",
   "execution_count": 2,
   "metadata": {},
   "outputs": [
    {
     "name": "stdout",
     "output_type": "stream",
     "text": [
      "Hello, world!\n"
     ]
    }
   ],
   "source": [
    "print(\"Hello, world!\")"
   ]
  },
  {
   "cell_type": "code",
   "execution_count": 3,
   "metadata": {},
   "outputs": [
    {
     "data": {
      "text/plain": [
       "[1, 2, 3]"
      ]
     },
     "execution_count": 3,
     "metadata": {},
     "output_type": "execute_result"
    }
   ],
   "source": [
    "sorted([3, 2, 1])"
   ]
  },
  {
   "cell_type": "markdown",
   "metadata": {},
   "source": [
    "These, however, are built-in functions. What if we want to write our own functions?"
   ]
  },
  {
   "cell_type": "markdown",
   "metadata": {
    "id": "oEcBMLFqQxoM"
   },
   "source": [
    "## Definition\n",
    "- **def**  keyword followed by the **function name**, the function **parameteres** in brackets and separated by a comma, and a colon `:`.\n",
    "- a block of indented statements that implements the function **body**\n",
    "- possibly, an indented **return statement**\n",
    "\n",
    "The function syntax is:\n",
    "\n",
    "\n",
    "```python\n",
    "def function_name(arguments):\n",
    "    function body\n",
    "    return value\n",
    "```\n",
    "\n",
    "\n",
    "\n"
   ]
  },
  {
   "cell_type": "code",
   "execution_count": 4,
   "metadata": {},
   "outputs": [],
   "source": [
    "def printtimes(word, times):\n",
    "    for x in range(times):\n",
    "        print(word) # function body"
   ]
  },
  {
   "cell_type": "code",
   "execution_count": 5,
   "metadata": {},
   "outputs": [
    {
     "name": "stdout",
     "output_type": "stream",
     "text": [
      "ciao\n",
      "ciao\n",
      "ciao\n"
     ]
    }
   ],
   "source": [
    "printtimes('ciao', 3)"
   ]
  },
  {
   "cell_type": "code",
   "execution_count": 6,
   "metadata": {},
   "outputs": [
    {
     "name": "stdout",
     "output_type": "stream",
     "text": [
      "hello\n",
      "hello\n",
      "hello\n",
      "hello\n",
      "hello\n",
      "hello\n",
      "hello\n",
      "hello\n",
      "hello\n",
      "hello\n"
     ]
    }
   ],
   "source": [
    "printtimes('hello', 10)"
   ]
  },
  {
   "cell_type": "code",
   "execution_count": 8,
   "metadata": {},
   "outputs": [
    {
     "data": {
      "text/plain": [
       "\u001b[0;31mSignature:\u001b[0m \u001b[0mprinttimes\u001b[0m\u001b[0;34m(\u001b[0m\u001b[0mword\u001b[0m\u001b[0;34m,\u001b[0m \u001b[0mtimes\u001b[0m\u001b[0;34m)\u001b[0m\u001b[0;34m\u001b[0m\u001b[0;34m\u001b[0m\u001b[0m\n",
       "\u001b[0;31mDocstring:\u001b[0m <no docstring>\n",
       "\u001b[0;31mFile:\u001b[0m      /var/folders/27/y8zb96dj4rz5c5pd6d84yd440000gn/T/ipykernel_1256/3925413756.py\n",
       "\u001b[0;31mType:\u001b[0m      function"
      ]
     },
     "metadata": {},
     "output_type": "display_data"
    }
   ],
   "source": [
    "printtimes?"
   ]
  },
  {
   "cell_type": "code",
   "execution_count": 7,
   "metadata": {},
   "outputs": [
    {
     "name": "stdout",
     "output_type": "stream",
     "text": [
      "Help on function printtimes in module __main__:\n",
      "\n",
      "printtimes(word, times)\n",
      "\n"
     ]
    }
   ],
   "source": [
    "help(printtimes)"
   ]
  },
  {
   "cell_type": "markdown",
   "metadata": {},
   "source": [
    "Optionally, but highly recommended, we can define a so called **\"docstring\"**, which is a description of the functions purpose and behaivor. The docstring should follow directly after the function definition, before the code in the function body."
   ]
  },
  {
   "cell_type": "code",
   "execution_count": 9,
   "metadata": {
    "colab": {
     "base_uri": "https://localhost:8080/"
    },
    "id": "zxNeWsDSU9MX",
    "outputId": "1fa5d509-42ab-4be3-f60b-6a5eacfc826c"
   },
   "outputs": [
    {
     "name": "stdout",
     "output_type": "stream",
     "text": [
      "ciao\n",
      "ciao\n",
      "ciao\n"
     ]
    }
   ],
   "source": [
    "def print_times(word, times):\n",
    "    '''A function to print a word several times\n",
    "  \n",
    "    Args:\n",
    "        word: the word\n",
    "        times: how many repetitions'''\n",
    "  \n",
    "    for x in range(times):\n",
    "        print(word) # function body\n",
    "\n",
    "printtimes('ciao', 3)\n"
   ]
  },
  {
   "cell_type": "code",
   "execution_count": 10,
   "metadata": {
    "colab": {
     "base_uri": "https://localhost:8080/"
    },
    "id": "_XQUyOoR7jsC",
    "outputId": "4c6d0701-9dc4-4f4c-a355-1a0bfb7638f4"
   },
   "outputs": [
    {
     "name": "stdout",
     "output_type": "stream",
     "text": [
      "Help on function print_times in module __main__:\n",
      "\n",
      "print_times(word, times)\n",
      "    A function to print a word several times\n",
      "    \n",
      "    Args:\n",
      "        word: the word\n",
      "        times: how many repetitions\n",
      "\n"
     ]
    }
   ],
   "source": [
    "# python docstring\n",
    "help(print_times)"
   ]
  },
  {
   "cell_type": "code",
   "execution_count": 11,
   "metadata": {},
   "outputs": [
    {
     "data": {
      "text/plain": [
       "\u001b[0;31mSignature:\u001b[0m \u001b[0mprint_times\u001b[0m\u001b[0;34m(\u001b[0m\u001b[0mword\u001b[0m\u001b[0;34m,\u001b[0m \u001b[0mtimes\u001b[0m\u001b[0;34m)\u001b[0m\u001b[0;34m\u001b[0m\u001b[0;34m\u001b[0m\u001b[0m\n",
       "\u001b[0;31mDocstring:\u001b[0m\n",
       "A function to print a word several times\n",
       "\n",
       "Args:\n",
       "    word: the word\n",
       "    times: how many repetitions\n",
       "\u001b[0;31mFile:\u001b[0m      /var/folders/27/y8zb96dj4rz5c5pd6d84yd440000gn/T/ipykernel_1256/3298339066.py\n",
       "\u001b[0;31mType:\u001b[0m      function"
      ]
     },
     "metadata": {},
     "output_type": "display_data"
    }
   ],
   "source": [
    "print_times?"
   ]
  },
  {
   "cell_type": "markdown",
   "metadata": {},
   "source": [
    "Python will complain if the number of arguments is wrong"
   ]
  },
  {
   "cell_type": "code",
   "execution_count": 12,
   "metadata": {},
   "outputs": [
    {
     "ename": "TypeError",
     "evalue": "print_times() missing 1 required positional argument: 'times'",
     "output_type": "error",
     "traceback": [
      "\u001b[0;31m---------------------------------------------------------------------------\u001b[0m",
      "\u001b[0;31mTypeError\u001b[0m                                 Traceback (most recent call last)",
      "Cell \u001b[0;32mIn[12], line 1\u001b[0m\n\u001b[0;32m----> 1\u001b[0m \u001b[43mprint_times\u001b[49m\u001b[43m(\u001b[49m\u001b[38;5;124;43m'\u001b[39;49m\u001b[38;5;124;43mhello\u001b[39;49m\u001b[38;5;124;43m'\u001b[39;49m\u001b[43m)\u001b[49m \u001b[38;5;66;03m# raises TypeError\u001b[39;00m\n",
      "\u001b[0;31mTypeError\u001b[0m: print_times() missing 1 required positional argument: 'times'"
     ]
    }
   ],
   "source": [
    "print_times('hello') # raises TypeError"
   ]
  },
  {
   "cell_type": "markdown",
   "metadata": {},
   "source": [
    "- **Parameters** are defined by the names that appear in a function definition.\n",
    "- **Arguments** are the values actually passed to a function when calling it. \n",
    "\n",
    "Parameters define what kind of arguments a function can accept. \n",
    "\n",
    "```python\n",
    "def func(foo, bar = None):\n",
    "    pass\n",
    "```\n",
    "- `foo` and `bar` are **parameters** of `func`.\n",
    "\n",
    "\n",
    "```python\n",
    "func(42, bar = 314, extra = somevar)\n",
    "```\n",
    "- the values 42 and 314 are **arguments**."
   ]
  },
  {
   "cell_type": "markdown",
   "metadata": {
    "id": "9qtIY5tSVhai"
   },
   "source": [
    "### Default values"
   ]
  },
  {
   "cell_type": "code",
   "execution_count": 13,
   "metadata": {
    "colab": {
     "base_uri": "https://localhost:8080/"
    },
    "id": "99_NAODYVaCu",
    "outputId": "d58d315e-90c4-42a4-9cfe-d5e2b20b6dfd"
   },
   "outputs": [
    {
     "name": "stdout",
     "output_type": "stream",
     "text": [
      "ciao\n",
      "ciao\n",
      "ciao\n",
      "ciao\n"
     ]
    }
   ],
   "source": [
    "def another_print_times(word, times = 4):\n",
    "    for x in range(times):\n",
    "        print(word) # function body\n",
    "        \n",
    "another_print_times('ciao')"
   ]
  },
  {
   "cell_type": "markdown",
   "metadata": {},
   "source": [
    "Default arguments **must follow** positional arguments in function definition"
   ]
  },
  {
   "cell_type": "code",
   "execution_count": 14,
   "metadata": {},
   "outputs": [
    {
     "ename": "SyntaxError",
     "evalue": "non-default argument follows default argument (294489222.py, line 1)",
     "output_type": "error",
     "traceback": [
      "\u001b[0;36m  Cell \u001b[0;32mIn[14], line 1\u001b[0;36m\u001b[0m\n\u001b[0;31m    def another_print_times(word = \"ciao\", times): # raise SyntaxError\u001b[0m\n\u001b[0m                                           ^\u001b[0m\n\u001b[0;31mSyntaxError\u001b[0m\u001b[0;31m:\u001b[0m non-default argument follows default argument\n"
     ]
    }
   ],
   "source": [
    "def another_print_times(word = \"ciao\", times): # raise SyntaxError\n",
    "    for x in range(times):\n",
    "        print(word) # function body"
   ]
  },
  {
   "cell_type": "markdown",
   "metadata": {},
   "source": [
    "If we explicitly list the name of the arguments in the function calls, they do not need to come in the same order as in the function definition. This is called **keyword arguments**, and is often very useful in functions that takes a lot of optional arguments."
   ]
  },
  {
   "cell_type": "code",
   "execution_count": 15,
   "metadata": {},
   "outputs": [
    {
     "name": "stdout",
     "output_type": "stream",
     "text": [
      "ciao\n",
      "ciao\n",
      "ciao\n"
     ]
    }
   ],
   "source": [
    "# no need to follow argument order with explicit definition\n",
    "another_print_times(times = 3, word = 'ciao')"
   ]
  },
  {
   "cell_type": "markdown",
   "metadata": {
    "id": "KFa-9kJyVlu7"
   },
   "source": [
    "### Returned Values"
   ]
  },
  {
   "cell_type": "code",
   "execution_count": 16,
   "metadata": {
    "colab": {
     "base_uri": "https://localhost:8080/"
    },
    "id": "z_wBezcWVuYP",
    "outputId": "8aefd187-f34e-4f83-9f16-3f05373870bd"
   },
   "outputs": [
    {
     "data": {
      "text/plain": [
       "4"
      ]
     },
     "execution_count": 16,
     "metadata": {},
     "output_type": "execute_result"
    }
   ],
   "source": [
    "def my_max(x, y):\n",
    "    if x > y:\n",
    "        return x\n",
    "    return y\n",
    "\n",
    "my_max(3, 4)"
   ]
  },
  {
   "cell_type": "markdown",
   "metadata": {},
   "source": [
    "- Strictly speaking, a function can only return one value\n",
    "- If the value is a tuple, the effect is the same as returning multiple values. "
   ]
  },
  {
   "cell_type": "code",
   "execution_count": 17,
   "metadata": {},
   "outputs": [],
   "source": [
    "def powers(x):\n",
    "    \"\"\"\n",
    "    Return a few powers of x.\n",
    "    \"\"\"\n",
    "    return x ** 2, x ** 3, x ** 4"
   ]
  },
  {
   "cell_type": "code",
   "execution_count": 18,
   "metadata": {},
   "outputs": [
    {
     "name": "stdout",
     "output_type": "stream",
     "text": [
      "(9, 27, 81)\n"
     ]
    }
   ],
   "source": [
    "tup = powers(3)\n",
    "print(tup)"
   ]
  },
  {
   "cell_type": "code",
   "execution_count": 19,
   "metadata": {},
   "outputs": [
    {
     "name": "stdout",
     "output_type": "stream",
     "text": [
      "9 --- 27 --- 81\n"
     ]
    }
   ],
   "source": [
    "x2, x3, x4 = powers(3)\n",
    "print(x2, '---', x3, '---', x4)"
   ]
  },
  {
   "cell_type": "markdown",
   "metadata": {},
   "source": [
    "## Namespaces"
   ]
  },
  {
   "cell_type": "markdown",
   "metadata": {},
   "source": [
    "In Python, every handled entity is either an object or a name or a namespace\n",
    "\n",
    "- **Objects**:\n",
    "    - Store data or functionality\n",
    "    - Data, modules, functions, classes, methods are objects\n",
    "- **Names**:\n",
    "    - Used to refer objects\n",
    "    - Multiple names can refer the same object\n",
    "    - A non-referred object cannot be used and will be garbage-collected\n",
    "- **Namespaces**:\n",
    "    - Entities aimed at collecting names, i.e. mapping from names to objects\n"
   ]
  },
  {
   "cell_type": "markdown",
   "metadata": {},
   "source": [
    "**Functions create temporary namespaces**\n",
    "- Variables **defined** in the body of a function are separate from those outside the function. They exist in a separate \"namespace\" belonging to the function\n",
    "- Functions can access variables defined in the main body of our code, e.g. constants\n",
    "- At a function call, each parameter becomes a local variable in the execution context, bound to the argument passed\n",
    "- This is different from other code blocks, e.g. the `for` loop\n",
    "\n",
    "Read the [docs](https://docs.python.org/3/tutorial/classes.html#python-scopes-and-namespaces):\n",
    "- A *namespace* is a mapping from names to objects.\n",
    "- A *scope* is a textual region of a Python program where a namespace is directly accessible."
   ]
  },
  {
   "cell_type": "code",
   "execution_count": 20,
   "metadata": {},
   "outputs": [],
   "source": [
    "def add(a, b):\n",
    "    special_answer = a + b\n",
    "    return special_answer"
   ]
  },
  {
   "cell_type": "code",
   "execution_count": 21,
   "metadata": {
    "scrolled": true
   },
   "outputs": [
    {
     "data": {
      "text/plain": [
       "3"
      ]
     },
     "execution_count": 21,
     "metadata": {},
     "output_type": "execute_result"
    }
   ],
   "source": [
    "add(1, 2)"
   ]
  },
  {
   "cell_type": "code",
   "execution_count": 22,
   "metadata": {
    "scrolled": true
   },
   "outputs": [
    {
     "ename": "NameError",
     "evalue": "name 'special_answer' is not defined",
     "output_type": "error",
     "traceback": [
      "\u001b[0;31m---------------------------------------------------------------------------\u001b[0m",
      "\u001b[0;31mNameError\u001b[0m                                 Traceback (most recent call last)",
      "Cell \u001b[0;32mIn[22], line 1\u001b[0m\n\u001b[0;32m----> 1\u001b[0m \u001b[38;5;28mprint\u001b[39m(\u001b[43mspecial_answer\u001b[49m) \u001b[38;5;66;03m# raises NameError\u001b[39;00m\n",
      "\u001b[0;31mNameError\u001b[0m: name 'special_answer' is not defined"
     ]
    }
   ],
   "source": [
    "print(special_answer) # raises NameError"
   ]
  },
  {
   "cell_type": "code",
   "execution_count": 24,
   "metadata": {},
   "outputs": [
    {
     "name": "stdout",
     "output_type": "stream",
     "text": [
      "returned value: 10\n",
      "\"answer\" value: 5\n"
     ]
    }
   ],
   "source": [
    "answer = 5\n",
    "def add(a, b):\n",
    "    answer = a + b\n",
    "    return answer\n",
    "\n",
    "print('returned value:', add(4, 6))\n",
    "print('\"answer\" value:', answer)"
   ]
  },
  {
   "cell_type": "code",
   "execution_count": 25,
   "metadata": {},
   "outputs": [],
   "source": [
    "for x in range(10):\n",
    "    for_special_answer = x * 10"
   ]
  },
  {
   "cell_type": "code",
   "execution_count": 26,
   "metadata": {},
   "outputs": [
    {
     "name": "stdout",
     "output_type": "stream",
     "text": [
      "90\n"
     ]
    }
   ],
   "source": [
    "print(for_special_answer)"
   ]
  },
  {
   "cell_type": "markdown",
   "metadata": {},
   "source": [
    "- Functions can access variables defined in the main body of our code, e.g. constants\n"
   ]
  },
  {
   "cell_type": "code",
   "execution_count": 27,
   "metadata": {},
   "outputs": [],
   "source": [
    "pi = 3.1416\n",
    "def circumference(r):\n",
    "    answer = 2 * pi * r\n",
    "    return answer"
   ]
  },
  {
   "cell_type": "code",
   "execution_count": 28,
   "metadata": {},
   "outputs": [
    {
     "data": {
      "text/plain": [
       "31.416"
      ]
     },
     "execution_count": 28,
     "metadata": {},
     "output_type": "execute_result"
    }
   ],
   "source": [
    "circumference(5)"
   ]
  },
  {
   "cell_type": "markdown",
   "metadata": {},
   "source": [
    "## Lambda functions"
   ]
  },
  {
   "cell_type": "markdown",
   "metadata": {},
   "source": [
    "In Python we can also create **unnamed functions**, using the lambda keyword:"
   ]
  },
  {
   "cell_type": "code",
   "execution_count": 29,
   "metadata": {},
   "outputs": [],
   "source": [
    "f1 = lambda x: x ** 2\n",
    "    \n",
    "# is equivalent to \n",
    "\n",
    "def f2(x):\n",
    "    return x ** 2"
   ]
  },
  {
   "cell_type": "code",
   "execution_count": 30,
   "metadata": {},
   "outputs": [
    {
     "data": {
      "text/plain": [
       "(4, 4)"
      ]
     },
     "execution_count": 30,
     "metadata": {},
     "output_type": "execute_result"
    }
   ],
   "source": [
    "f1(2), f2(2)"
   ]
  },
  {
   "cell_type": "markdown",
   "metadata": {},
   "source": [
    "This technique is useful for example when we want to pass a simple function as an argument to another function, like this:"
   ]
  },
  {
   "cell_type": "code",
   "execution_count": 31,
   "metadata": {},
   "outputs": [
    {
     "data": {
      "text/plain": [
       "\u001b[0;31mInit signature:\u001b[0m \u001b[0mmap\u001b[0m\u001b[0;34m(\u001b[0m\u001b[0mself\u001b[0m\u001b[0;34m,\u001b[0m \u001b[0;34m/\u001b[0m\u001b[0;34m,\u001b[0m \u001b[0;34m*\u001b[0m\u001b[0margs\u001b[0m\u001b[0;34m,\u001b[0m \u001b[0;34m**\u001b[0m\u001b[0mkwargs\u001b[0m\u001b[0;34m)\u001b[0m\u001b[0;34m\u001b[0m\u001b[0;34m\u001b[0m\u001b[0m\n",
       "\u001b[0;31mDocstring:\u001b[0m     \n",
       "map(func, *iterables) --> map object\n",
       "\n",
       "Make an iterator that computes the function using arguments from\n",
       "each of the iterables.  Stops when the shortest iterable is exhausted.\n",
       "\u001b[0;31mType:\u001b[0m           type\n",
       "\u001b[0;31mSubclasses:\u001b[0m     "
      ]
     },
     "metadata": {},
     "output_type": "display_data"
    }
   ],
   "source": [
    "map?"
   ]
  },
  {
   "cell_type": "code",
   "execution_count": 32,
   "metadata": {},
   "outputs": [
    {
     "data": {
      "text/plain": [
       "[9, 4, 1, 0, 1, 4, 9]"
      ]
     },
     "execution_count": 32,
     "metadata": {},
     "output_type": "execute_result"
    }
   ],
   "source": [
    "# map is a built-in python function\n",
    "list(map(lambda x: x ** 2, range(-3, 4)))"
   ]
  },
  {
   "cell_type": "code",
   "execution_count": 33,
   "metadata": {},
   "outputs": [
    {
     "data": {
      "text/plain": [
       "[9, 4, 1, 0, 1, 4, 9]"
      ]
     },
     "execution_count": 33,
     "metadata": {},
     "output_type": "execute_result"
    }
   ],
   "source": [
    "list(map(f2, range(-3, 4)))"
   ]
  },
  {
   "cell_type": "code",
   "execution_count": 34,
   "metadata": {},
   "outputs": [
    {
     "data": {
      "text/plain": [
       "\u001b[0;31mSignature:\u001b[0m \u001b[0mlist\u001b[0m\u001b[0;34m.\u001b[0m\u001b[0msort\u001b[0m\u001b[0;34m(\u001b[0m\u001b[0mself\u001b[0m\u001b[0;34m,\u001b[0m \u001b[0;34m/\u001b[0m\u001b[0;34m,\u001b[0m \u001b[0;34m*\u001b[0m\u001b[0;34m,\u001b[0m \u001b[0mkey\u001b[0m\u001b[0;34m=\u001b[0m\u001b[0;32mNone\u001b[0m\u001b[0;34m,\u001b[0m \u001b[0mreverse\u001b[0m\u001b[0;34m=\u001b[0m\u001b[0;32mFalse\u001b[0m\u001b[0;34m)\u001b[0m\u001b[0;34m\u001b[0m\u001b[0;34m\u001b[0m\u001b[0m\n",
       "\u001b[0;31mDocstring:\u001b[0m\n",
       "Sort the list in ascending order and return None.\n",
       "\n",
       "The sort is in-place (i.e. the list itself is modified) and stable (i.e. the\n",
       "order of two equal elements is maintained).\n",
       "\n",
       "If a key function is given, apply it once to each list item and sort them,\n",
       "ascending or descending, according to their function values.\n",
       "\n",
       "The reverse flag can be set to sort in descending order.\n",
       "\u001b[0;31mType:\u001b[0m      method_descriptor"
      ]
     },
     "metadata": {},
     "output_type": "display_data"
    }
   ],
   "source": [
    "list.sort?"
   ]
  },
  {
   "cell_type": "code",
   "execution_count": 35,
   "metadata": {},
   "outputs": [
    {
     "name": "stdout",
     "output_type": "stream",
     "text": [
      "[(1, 'z'), (2, 'y'), (3, 'x'), (3, 'w')]\n",
      "[(3, 'w'), (3, 'x'), (2, 'y'), (1, 'z')]\n"
     ]
    }
   ],
   "source": [
    "a = [(2, 'y'), (1, 'z'), (3, 'x'), (3, 'w')]\n",
    "\n",
    "a.sort(key = lambda pair: pair[0])\n",
    "print(a)\n",
    "\n",
    "a.sort(key = lambda pair: pair[1])\n",
    "print(a)"
   ]
  },
  {
   "cell_type": "markdown",
   "metadata": {},
   "source": [
    "## Generator functions"
   ]
  },
  {
   "cell_type": "markdown",
   "metadata": {},
   "source": [
    "Usually, we use a **generator function** or **generator expression** when we want to create a **custom iterator**. A generator function is a function which returns a generator iterator. It looks like a normal function except that it contains `yield` expressions for producing a series of values usable in a `for` loop or that can be retrieved one at a time with the `next()` function."
   ]
  },
  {
   "cell_type": "code",
   "execution_count": 36,
   "metadata": {},
   "outputs": [
    {
     "name": "stdout",
     "output_type": "stream",
     "text": [
      "<class 'generator'>\n",
      "10\n",
      "11\n",
      "12\n"
     ]
    }
   ],
   "source": [
    "def generate_numbers(min_value, max_value):\n",
    "    while min_value < max_value:\n",
    "        yield min_value\n",
    "        min_value += 1\n",
    "\n",
    "numbers = generate_numbers(10, 20)\n",
    "print(type(numbers))\n",
    "\n",
    "print(next(numbers))\n",
    "print(next(numbers))\n",
    "print(next(numbers))"
   ]
  },
  {
   "cell_type": "markdown",
   "metadata": {},
   "source": [
    "Each `yield` temporarily suspends processing, remembering the location execution state (including local variables and pending try-statements). When the generator iterator resumes, it picks up where it left off (in contrast to functions which start fresh on every invocation)."
   ]
  },
  {
   "cell_type": "markdown",
   "metadata": {},
   "source": [
    "## Aside: Data passed by *assignment*\n",
    "Read the [docs](https://docs.python.org/3/faq/programming.html#how-do-i-write-a-function-with-output-parameters-call-by-reference)\n",
    "\n"
   ]
  },
  {
   "cell_type": "markdown",
   "metadata": {},
   "source": [
    "- If a **mutable object** is passed to a function, the function gets a reference to the same object. As a consequence, the original object may be mutated (may result in unexpected behaviour, if not properly documented).\n",
    "- If you pass an immutable object to a function, of course, you can't mutate the object."
   ]
  },
  {
   "cell_type": "markdown",
   "metadata": {},
   "source": [
    "### Mutable objects"
   ]
  },
  {
   "cell_type": "code",
   "execution_count": 37,
   "metadata": {},
   "outputs": [],
   "source": [
    "def func_mutating(the_list):\n",
    "    print(f'inside \"func_mutating\" - input: {the_list}')\n",
    "    the_list.append(4) # lists are mutable, and \"append\" operates in-place\n",
    "    print(f'inside \"func_mutating\" - after \"append\": {the_list}')"
   ]
  },
  {
   "cell_type": "code",
   "execution_count": 38,
   "metadata": {},
   "outputs": [
    {
     "name": "stdout",
     "output_type": "stream",
     "text": [
      "before \"func_mutating\", my_list = [1, 2, 3]\n",
      "inside \"func_mutating\" - input: [1, 2, 3]\n",
      "inside \"func_mutating\" - after \"append\": [1, 2, 3, 4]\n",
      "after \"func_mutating\", my_list = [1, 2, 3, 4]\n"
     ]
    }
   ],
   "source": [
    "my_list = [1, 2, 3]\n",
    "\n",
    "print(f'before \"func_mutating\", my_list = {my_list}')\n",
    "func_mutating(my_list)\n",
    "print(f'after \"func_mutating\", my_list = {my_list}')"
   ]
  },
  {
   "cell_type": "markdown",
   "metadata": {},
   "source": [
    "We are passing the reference to `my_list`, not a copy of it. Indeed we can mutate the original list and have the changes reflected in the outer scope."
   ]
  },
  {
   "cell_type": "markdown",
   "metadata": {},
   "source": [
    "### Immutable objects"
   ]
  },
  {
   "cell_type": "code",
   "execution_count": 39,
   "metadata": {},
   "outputs": [],
   "source": [
    "def func_immutable(the_string):\n",
    "    print(f'inside \"func\" - input: {the_string}')\n",
    "    the_string += 'xyz'\n",
    "    print(f'inside \"func\" - after referencing: {the_string}')"
   ]
  },
  {
   "cell_type": "code",
   "execution_count": 40,
   "metadata": {},
   "outputs": [
    {
     "name": "stdout",
     "output_type": "stream",
     "text": [
      "before, my_string: abc\n",
      "inside \"func\" - input: abc\n",
      "inside \"func\" - after referencing: abcxyz\n",
      "after, my_string: abc\n"
     ]
    }
   ],
   "source": [
    "my_string = 'abc'\n",
    "\n",
    "print(f'before, my_string: {my_string}')\n",
    "func_immutable(my_string)\n",
    "print(f'after, my_string: {my_string}')"
   ]
  },
  {
   "cell_type": "markdown",
   "metadata": {},
   "source": [
    "# A first look at Classes\n",
    "- from [python docs](https://docs.python.org/3/tutorial/classes.html)\n"
   ]
  },
  {
   "cell_type": "markdown",
   "metadata": {},
   "source": [
    "\n",
    "## Definitions\n",
    "\n",
    "Classes are the key features of object-oriented programming. A class is a structure for representing an object and the operations that can be performed on the object.\n",
    "\n",
    "What is Object-Oriented Programming (OOP)?\n",
    "- A _style_ of programming that bundles data with related methods\n",
    "- These bundles are called _classes_ (or _types_)\n"
   ]
  },
  {
   "cell_type": "markdown",
   "metadata": {},
   "source": [
    "A class is defined using the `class` keyword, and the class definition usually contains a number of class method definitions.\n",
    "\n",
    "* Each instance method should have an argument `self` as its first argument. This object is a self-reference.\n",
    "\n",
    "* Some method names have special meaning, for example:\n",
    "    * `__init__`: The name of the method that is invoked when the object is first created. (In other languages this method is called *constructor*.\n",
    "    * `__str__`: A method that is invoked when a simple string representation of the class is needed, as for example when printed.\n",
    "\n"
   ]
  },
  {
   "cell_type": "markdown",
   "metadata": {},
   "source": [
    "The following *dog class* is just an example to get familiar with Object Oriented Programming and the notation using Python.\n"
   ]
  },
  {
   "cell_type": "code",
   "execution_count": 42,
   "metadata": {},
   "outputs": [],
   "source": [
    "class Dog:\n",
    "    \"\"\"A simple example class\"\"\"\n",
    "  \n",
    "    def __init__(self, name = 'Bau'): # method for initializing a new instance\n",
    "        # self keyword refers to the newly initialized object\n",
    "        # data attributes\n",
    "        self.name = name    # instance attribute, unique to each instance \n",
    "        self.tricks = []    # creates a new empty list for each dog \n",
    " \n",
    "    def add_trick(self, trick): # a method\n",
    "        self.tricks.append(trick)\n",
    "\n",
    "    def __str__(self):\n",
    "        return(f\"A dog named {self.name}\")\n",
    "\n"
   ]
  },
  {
   "cell_type": "code",
   "execution_count": 43,
   "metadata": {},
   "outputs": [],
   "source": [
    "c = Dog() # create new instance of the Dog class"
   ]
  },
  {
   "cell_type": "code",
   "execution_count": 44,
   "metadata": {
    "scrolled": true
   },
   "outputs": [
    {
     "name": "stdout",
     "output_type": "stream",
     "text": [
      "A dog named Bau\n"
     ]
    }
   ],
   "source": [
    "print(c)"
   ]
  },
  {
   "cell_type": "code",
   "execution_count": 46,
   "metadata": {},
   "outputs": [
    {
     "name": "stdout",
     "output_type": "stream",
     "text": [
      "Bau\n"
     ]
    }
   ],
   "source": [
    "print(c.name)"
   ]
  },
  {
   "cell_type": "code",
   "execution_count": 47,
   "metadata": {},
   "outputs": [],
   "source": [
    "c.add_trick('just bark') # invoke a method in the class instance `c`:"
   ]
  },
  {
   "cell_type": "code",
   "execution_count": 48,
   "metadata": {},
   "outputs": [
    {
     "name": "stdout",
     "output_type": "stream",
     "text": [
      "['just bark']\n"
     ]
    }
   ],
   "source": [
    "print(c.tricks)"
   ]
  },
  {
   "cell_type": "code",
   "execution_count": 49,
   "metadata": {},
   "outputs": [
    {
     "name": "stdout",
     "output_type": "stream",
     "text": [
      "['bark', 'roll over']\n"
     ]
    }
   ],
   "source": [
    "d = Dog('Fido') # create new instance of the Dog class\n",
    "d.add_trick('bark')\n",
    "d.add_trick('roll over')\n",
    "print(d.tricks)"
   ]
  },
  {
   "cell_type": "code",
   "execution_count": 50,
   "metadata": {},
   "outputs": [
    {
     "data": {
      "text/plain": [
       "__main__.Dog"
      ]
     },
     "execution_count": 50,
     "metadata": {},
     "output_type": "execute_result"
    }
   ],
   "source": [
    "# the type( ) function tells us what type the given data belongs to\n",
    "type(c)"
   ]
  },
  {
   "cell_type": "code",
   "execution_count": 51,
   "metadata": {},
   "outputs": [
    {
     "data": {
      "text/plain": [
       "True"
      ]
     },
     "execution_count": 51,
     "metadata": {},
     "output_type": "execute_result"
    }
   ],
   "source": [
    "isinstance(c, Dog) # Return True if the first argument is an instance of the second argument"
   ]
  },
  {
   "cell_type": "code",
   "execution_count": 52,
   "metadata": {
    "scrolled": true
   },
   "outputs": [
    {
     "data": {
      "text/plain": [
       "True"
      ]
     },
     "execution_count": 52,
     "metadata": {},
     "output_type": "execute_result"
    }
   ],
   "source": [
    "isinstance('ciao', str) # "
   ]
  },
  {
   "cell_type": "markdown",
   "metadata": {},
   "source": [
    "## Inheritance\n",
    "\n",
    "Python classes support **inheritance**. \n",
    "\n",
    "- Classes are organized hierarchically as superclasses and subclasses\n",
    "  - This allows us to define progressively more specific versions of objects\n",
    "  - _Thing > Animal > Mammal > Cow_\n",
    "  - _Thing > Animal > Mammal > Cat_\n",
    "\n",
    "- Classes inherit the attributes and abilities of their parent classes (_inheritance_)\n",
    "  - `Mammal` has a method `produce_milk`\n",
    "  - Hence `Cow.produce_milk()` works\n",
    "  - Hence `Cat.produce_milk()` works\n",
    "- Different classes of object can respond to the same request in different ways\n",
    "  - Referred to as _polymorphism_\n",
    "  - `Cow.speak()` returns \"moo\"\n",
    "  - `Cat.speak()` returns \"meow\"\n",
    "\n"
   ]
  },
  {
   "cell_type": "markdown",
   "metadata": {},
   "source": [
    "The syntax for a derived class definition looks like this:\n"
   ]
  },
  {
   "cell_type": "code",
   "execution_count": 53,
   "metadata": {},
   "outputs": [
    {
     "data": {
      "text/plain": [
       "([], 'Allie')"
      ]
     },
     "execution_count": 53,
     "metadata": {},
     "output_type": "execute_result"
    }
   ],
   "source": [
    "class Schnauzer(Dog):\n",
    "    pass\n",
    "\n",
    "f = Schnauzer('Allie')\n",
    "f.tricks, f.name"
   ]
  },
  {
   "cell_type": "code",
   "execution_count": 54,
   "metadata": {},
   "outputs": [
    {
     "data": {
      "text/plain": [
       "True"
      ]
     },
     "execution_count": 54,
     "metadata": {},
     "output_type": "execute_result"
    }
   ],
   "source": [
    "isinstance(f, Dog)"
   ]
  },
  {
   "cell_type": "markdown",
   "metadata": {},
   "source": [
    "- `class Schnauzer(Dog)` says that `Schnauzer` is a type of `Dog`\n",
    "- By default, `Schnauzer` inherits all the methods and attributes of `Dog`"
   ]
  },
  {
   "cell_type": "code",
   "execution_count": 55,
   "metadata": {},
   "outputs": [],
   "source": [
    "class Schnauzer(Dog):\n",
    "    def __init__(self, name, moustache):\n",
    "        Dog.__init__(self, name)\n",
    "        self.moustache = moustache\n",
    "\n",
    "    def __str__(self):\n",
    "        return(f\"A Schnauzer named {self.name}\")\n",
    "    "
   ]
  },
  {
   "cell_type": "code",
   "execution_count": 56,
   "metadata": {},
   "outputs": [
    {
     "name": "stdout",
     "output_type": "stream",
     "text": [
      "A Schnauzer named Allie\n"
     ]
    },
    {
     "data": {
      "text/plain": [
       "(12, [], 'Allie')"
      ]
     },
     "execution_count": 56,
     "metadata": {},
     "output_type": "execute_result"
    }
   ],
   "source": [
    "f = Schnauzer('Allie', 12)\n",
    "print(f)\n",
    "f.moustache, f.tricks, f.name"
   ]
  },
  {
   "cell_type": "markdown",
   "metadata": {},
   "source": [
    "In this case:\n",
    "- We have used the Dog constructor to start the setup of the Schnauzer type of Dog\n",
    "- We have added a new attribute to the `__init__` method: `moustache`\n",
    "- We did not redefine `add_trick` method.\n",
    "- We did redefine `__str__` method."
   ]
  },
  {
   "cell_type": "markdown",
   "metadata": {},
   "source": [
    "### [Intermezzo: Coding Style](https://docs.python.org/3.11/tutorial/controlflow.html#intermezzo-coding-style)\n",
    "- [...]\n",
    "- Name your classes and functions consistently; the convention is to use `UpperCamelCase` for classes and `lowercase_with_underscores` for functions and methods. Always use `self` as the name for the first method argument."
   ]
  }
 ],
 "metadata": {
  "colab": {
   "collapsed_sections": [],
   "name": "02_Python_Basic.ipynb",
   "provenance": [],
   "toc_visible": true
  },
  "kernelspec": {
   "display_name": "Python 3 (ipykernel)",
   "language": "python",
   "name": "python3"
  },
  "language_info": {
   "codemirror_mode": {
    "name": "ipython",
    "version": 3
   },
   "file_extension": ".py",
   "mimetype": "text/x-python",
   "name": "python",
   "nbconvert_exporter": "python",
   "pygments_lexer": "ipython3",
   "version": "3.11.9"
  }
 },
 "nbformat": 4,
 "nbformat_minor": 4
}
